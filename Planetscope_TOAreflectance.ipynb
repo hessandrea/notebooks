{
  "nbformat": 4,
  "nbformat_minor": 0,
  "metadata": {
    "colab": {
      "name": "Planetscope_TOAreflectance.ipynb",
      "provenance": [],
      "collapsed_sections": [],
      "authorship_tag": "ABX9TyODjSGRUebCQATqDirCEKTC",
      "include_colab_link": true
    },
    "kernelspec": {
      "name": "python3",
      "display_name": "Python 3"
    }
  },
  "cells": [
    {
      "cell_type": "markdown",
      "metadata": {
        "id": "view-in-github",
        "colab_type": "text"
      },
      "source": [
        "<a href=\"https://colab.research.google.com/github/hessandrea/notebooks/blob/master/Planetscope_TOAreflectance.ipynb\" target=\"_parent\"><img src=\"https://colab.research.google.com/assets/colab-badge.svg\" alt=\"Open In Colab\"/></a>"
      ]
    },
    {
      "cell_type": "code",
      "metadata": {
        "id": "UbrqaH9xCOfe",
        "colab_type": "code",
        "colab": {}
      },
      "source": [
        "#!pip install rasterio\n",
        "import rasterio\n",
        "import numpy as np\n",
        "import os"
      ],
      "execution_count": 0,
      "outputs": []
    },
    {
      "cell_type": "code",
      "metadata": {
        "id": "oW6sY0cvzeCn",
        "colab_type": "code",
        "outputId": "03985237-8a89-4168-8df9-b59ecbc85f53",
        "colab": {
          "base_uri": "https://localhost:8080/",
          "height": 126
        }
      },
      "source": [
        "# Load the Drive helper and mount\n",
        "from google.colab import drive\n",
        "\n",
        "# This will prompt for authorization.\n",
        "drive.mount('/content/drive')"
      ],
      "execution_count": 9,
      "outputs": [
        {
          "output_type": "stream",
          "text": [
            "Go to this URL in a browser: https://accounts.google.com/o/oauth2/auth?client_id=947318989803-6bn6qk8qdgf4n4g3pfee6491hc0brc4i.apps.googleusercontent.com&redirect_uri=urn%3aietf%3awg%3aoauth%3a2.0%3aoob&response_type=code&scope=email%20https%3a%2f%2fwww.googleapis.com%2fauth%2fdocs.test%20https%3a%2f%2fwww.googleapis.com%2fauth%2fdrive%20https%3a%2f%2fwww.googleapis.com%2fauth%2fdrive.photos.readonly%20https%3a%2f%2fwww.googleapis.com%2fauth%2fpeopleapi.readonly\n",
            "\n",
            "Enter your authorization code:\n",
            "··········\n",
            "Mounted at /content/drive\n"
          ],
          "name": "stdout"
        }
      ]
    },
    {
      "cell_type": "code",
      "metadata": {
        "id": "PRqPnYyB2IGM",
        "colab_type": "code",
        "colab": {
          "base_uri": "https://localhost:8080/",
          "height": 35
        },
        "outputId": "1f99ea6d-de78-4055-bc7d-a8f3b36e7695"
      },
      "source": [
        "folders = os.listdir (\"/content/drive/My Drive/PlanetScope\")\n",
        "folders[0]\n",
        "\n",
        "\n"
      ],
      "execution_count": 11,
      "outputs": [
        {
          "output_type": "execute_result",
          "data": {
            "text/plain": [
              "'283030_3744107_2016-11-02_0e26'"
            ]
          },
          "metadata": {
            "tags": []
          },
          "execution_count": 11
        }
      ]
    },
    {
      "cell_type": "code",
      "metadata": {
        "id": "ne2iGNVT9_Sd",
        "colab_type": "code",
        "outputId": "3e247e74-6894-43c9-af9a-fa3c721feae0",
        "colab": {
          "base_uri": "https://localhost:8080/",
          "height": 35
        }
      },
      "source": [
        "if len(\"/content/drive/My Drive/PlanetScope\") > 1:\n",
        "    SearchDirectory = \"/content/drive/My Drive/PlanetScope\"\n",
        "    print(\"I'm looking for tifs in \", SearchDirectory)\n",
        "else:\n",
        "    print(\"Please tell me the directory to look in\")\n",
        "    sys.exit()\n",
        "\n",
        "\n",
        "\n"
      ],
      "execution_count": 17,
      "outputs": [
        {
          "output_type": "stream",
          "text": [
            "I'm looking for tifs in  /content/drive/My Drive/PlanetScope\n"
          ],
          "name": "stdout"
        }
      ]
    },
    {
      "cell_type": "code",
      "metadata": {
        "id": "T_vweIVOLnuI",
        "colab_type": "code",
        "colab": {}
      },
      "source": [
        ""
      ],
      "execution_count": 0,
      "outputs": []
    },
    {
      "cell_type": "code",
      "metadata": {
        "id": "y9d4iNft6RPH",
        "colab_type": "code",
        "colab": {
          "base_uri": "https://localhost:8080/",
          "height": 1000
        },
        "outputId": "23b4c7d7-f5c5-4978-a3f3-be3c0b7801fb"
      },
      "source": [
        "SearchDirectory = \"/content/drive/My Drive/PlanetScope\"\n",
        "\n",
        "for root, dirs, files in os.walk(SearchDirectory):\n",
        "     print(\"                  new iteration\")\n",
        "     image_files = []\n",
        "     for file in files:\n",
        "         #if file.endswith((\"BGRN_Analytic.tif\")):\n",
        "         if ((os.path.basename(root)).startswith(\"2\")) or (os.path.basename(root)).startswith(\"3\")  and (file.endswith(\"BGRN_Analytic.tif\")):\n",
        "             print(\"Discovered this tif: \", os.path.join(root, file))\n",
        "             image_files.append(os.path.join(root, file))\n",
        "\n",
        "     if image_files:\n",
        "         filedirectory =  root+ \"/\" + root[-30:]\n",
        "         filename =  filedirectory  + \"_BGRN_Analytic.tif\"\n",
        "         print(\"using tif file: \", filename)\n",
        "         xmlfile =  filedirectory  + \"_BGRN_Analytic_metadata.xml\"\n",
        "         print(\"using meta file: \", xmlfile)\n",
        "         output_file =  filedirectory + \"_refl.tif\"\n",
        "         print (\"calculating TOA and saving it into \", output_file)\n",
        "         #pdf_bytes = img2pdf.convert(image_files)\n",
        "         #file = open(output_file,\"wb\")\n",
        "         #file.write(pdf_bytes)\n",
        "\n",
        "         # Load red and NIR bands - note all PlanetScope 4-band images have band order BGRN\n",
        "         with rasterio.open(filename) as src:\n",
        "             band_blue_radiance = src.read(1)\n",
        "            \n",
        "         with rasterio.open(filename) as src:\n",
        "             band_green_radiance = src.read(2)\n",
        "\n",
        "         with rasterio.open(filename) as src:\n",
        "             band_red_radiance = src.read(3)\n",
        "\n",
        "         with rasterio.open(filename) as src:\n",
        "             band_nir_radiance = src.read(4)\n",
        "\n",
        "         from xml.dom import minidom\n",
        "\n",
        "         xmldoc = minidom.parse(xmlfile)\n",
        "         nodes = xmldoc.getElementsByTagName(\"ps:bandSpecificMetadata\")\n",
        "\n",
        "         # XML parser refers to bands by numbers 1-4\n",
        "         coeffs = {}\n",
        "         for node in nodes:\n",
        "             bn = node.getElementsByTagName(\"ps:bandNumber\")[0].firstChild.data\n",
        "             if bn in ['1', '2', '3', '4']:\n",
        "                 i = int(bn)\n",
        "                 value = node.getElementsByTagName(\"ps:reflectanceCoefficient\")[0].firstChild.data\n",
        "                 coeffs[i] = float(value)\n",
        "\n",
        "         print (\"Conversion coefficients:\", coeffs)\n",
        "\n",
        "         # Multiply the Digital Number (DN) values in each band by the TOA reflectance coefficients\n",
        "         band_blue_reflectance = band_blue_radiance * coeffs[1]\n",
        "         band_green_reflectance = band_green_radiance * coeffs[2]\n",
        "         band_red_reflectance = band_red_radiance * coeffs[3]\n",
        "         band_nir_reflectance = band_nir_radiance * coeffs[4]\n",
        "\n",
        "         import numpy as np\n",
        "         print (\"Red band radiance is from {} to {}\".format(np.amin(band_red_radiance), np.amax(band_red_radiance)))\n",
        "         print (\"Red band reflectance is from {} to {}\".format(np.amin(band_red_reflectance), np.amax(band_red_reflectance)))\n",
        "\n",
        "         kwargs = src.meta\n",
        "         kwargs.update(\n",
        "             dtype=rasterio.uint16,\n",
        "             count = 4)\n",
        "\n",
        "         print (\"Before Scaling, red band reflectance is from {} to {}\".format(np.amin(band_red_reflectance), np.amax(band_red_reflectance)))\n",
        "\n",
        "         # Here we include a fixed scaling factor. This is common practice.\n",
        "         scale = 10000\n",
        "         blue_ref_scaled = scale * band_blue_reflectance\n",
        "         green_ref_scaled = scale * band_green_reflectance\n",
        "         red_ref_scaled = scale * band_red_reflectance\n",
        "         nir_ref_scaled = scale * band_nir_reflectance\n",
        "\n",
        "         print (\"After Scaling, red band reflectance is from {} to {}\".format(np.amin(red_ref_scaled), np.amax(red_ref_scaled)))\n",
        "\n",
        "        # Write band calculations to a new raster file\n",
        "\n",
        "         print(\"writing reflectance file to: \", output_file)\n",
        "\n",
        "         with rasterio.open(output_file, 'w', **kwargs) as dst:\n",
        "                 dst.write_band(1, band_blue_reflectance.astype(rasterio.uint16))\n",
        "                 dst.write_band(2, band_green_reflectance.astype(rasterio.uint16))\n",
        "                 dst.write_band(3, band_red_reflectance.astype(rasterio.uint16))\n",
        "                 dst.write_band(4, band_nir_reflectance.astype(rasterio.uint16))\n",
        "\n",
        "    #print(dst)\n",
        "     else:\n",
        "         print (\"Couldn't find any tifs\")"
      ],
      "execution_count": 0,
      "outputs": [
        {
          "output_type": "stream",
          "text": [
            "                  new iteration\n",
            "Couldn't find any tifs\n",
            "                  new iteration\n",
            "Discovered this tif:  /content/drive/My Drive/PlanetScope/283030_3744107_2016-11-02_0e26/283030_3744107_2016-11-02_0e26_BGRN_Analytic.tif\n",
            "Discovered this tif:  /content/drive/My Drive/PlanetScope/283030_3744107_2016-11-02_0e26/283030_3744107_2016-11-02_0e26_BGRN_Analytic_metadata.xml\n",
            "Discovered this tif:  /content/drive/My Drive/PlanetScope/283030_3744107_2016-11-02_0e26/283030_3744107_2016-11-02_0e26_BGRN_DN_udm.tif\n",
            "Discovered this tif:  /content/drive/My Drive/PlanetScope/283030_3744107_2016-11-02_0e26/283030_3744107_2016-11-02_0e26_metadata.json\n",
            "using tif file:  /content/drive/My Drive/PlanetScope/283030_3744107_2016-11-02_0e26/283030_3744107_2016-11-02_0e26_BGRN_Analytic.tif\n",
            "using meta file:  /content/drive/My Drive/PlanetScope/283030_3744107_2016-11-02_0e26/283030_3744107_2016-11-02_0e26_BGRN_Analytic_metadata.xml\n",
            "calculating TOA and saving it into  /content/drive/My Drive/PlanetScope/283030_3744107_2016-11-02_0e26/283030_3744107_2016-11-02_0e26_refl.tif\n",
            "Conversion coefficients: {1: 2.0863433552e-05, 2: 2.19951062353e-05, 3: 2.45220013406e-05, 4: 3.71145447665e-05}\n",
            "Red band radiance is from 0 to 23978\n",
            "Red band reflectance is from 0.0 to 0.5879885481449069\n",
            "Before Scaling, red band reflectance is from 0.0 to 0.5879885481449069\n",
            "After Scaling, red band reflectance is from 0.0 to 5879.885481449069\n",
            "writing reflectance file to:  /content/drive/My Drive/PlanetScope/283030_3744107_2016-11-02_0e26/283030_3744107_2016-11-02_0e26_refl.tif\n",
            "                  new iteration\n",
            "Discovered this tif:  /content/drive/My Drive/PlanetScope/283030_3744108_2016-11-02_0e26/283030_3744108_2016-11-02_0e26_BGRN_Analytic.tif\n",
            "Discovered this tif:  /content/drive/My Drive/PlanetScope/283030_3744108_2016-11-02_0e26/283030_3744108_2016-11-02_0e26_BGRN_Analytic_metadata.xml\n",
            "Discovered this tif:  /content/drive/My Drive/PlanetScope/283030_3744108_2016-11-02_0e26/283030_3744108_2016-11-02_0e26_BGRN_DN_udm.tif\n",
            "Discovered this tif:  /content/drive/My Drive/PlanetScope/283030_3744108_2016-11-02_0e26/283030_3744108_2016-11-02_0e26_metadata.json\n",
            "using tif file:  /content/drive/My Drive/PlanetScope/283030_3744108_2016-11-02_0e26/283030_3744108_2016-11-02_0e26_BGRN_Analytic.tif\n",
            "using meta file:  /content/drive/My Drive/PlanetScope/283030_3744108_2016-11-02_0e26/283030_3744108_2016-11-02_0e26_BGRN_Analytic_metadata.xml\n",
            "calculating TOA and saving it into  /content/drive/My Drive/PlanetScope/283030_3744108_2016-11-02_0e26/283030_3744108_2016-11-02_0e26_refl.tif\n",
            "Conversion coefficients: {1: 2.0863433552e-05, 2: 2.19951062353e-05, 3: 2.45220013406e-05, 4: 3.71145447665e-05}\n",
            "Red band radiance is from 0 to 24629\n",
            "Red band reflectance is from 0.0 to 0.6039523710176374\n",
            "Before Scaling, red band reflectance is from 0.0 to 0.6039523710176374\n",
            "After Scaling, red band reflectance is from 0.0 to 6039.523710176374\n",
            "writing reflectance file to:  /content/drive/My Drive/PlanetScope/283030_3744108_2016-11-02_0e26/283030_3744108_2016-11-02_0e26_refl.tif\n",
            "                  new iteration\n",
            "Discovered this tif:  /content/drive/My Drive/PlanetScope/283030_3744207_2016-11-02_0e26/283030_3744207_2016-11-02_0e26_BGRN_Analytic.tif\n",
            "Discovered this tif:  /content/drive/My Drive/PlanetScope/283030_3744207_2016-11-02_0e26/283030_3744207_2016-11-02_0e26_BGRN_Analytic_metadata.xml\n",
            "Discovered this tif:  /content/drive/My Drive/PlanetScope/283030_3744207_2016-11-02_0e26/283030_3744207_2016-11-02_0e26_BGRN_DN_udm.tif\n",
            "Discovered this tif:  /content/drive/My Drive/PlanetScope/283030_3744207_2016-11-02_0e26/283030_3744207_2016-11-02_0e26_metadata.json\n",
            "using tif file:  /content/drive/My Drive/PlanetScope/283030_3744207_2016-11-02_0e26/283030_3744207_2016-11-02_0e26_BGRN_Analytic.tif\n",
            "using meta file:  /content/drive/My Drive/PlanetScope/283030_3744207_2016-11-02_0e26/283030_3744207_2016-11-02_0e26_BGRN_Analytic_metadata.xml\n",
            "calculating TOA and saving it into  /content/drive/My Drive/PlanetScope/283030_3744207_2016-11-02_0e26/283030_3744207_2016-11-02_0e26_refl.tif\n",
            "Conversion coefficients: {1: 2.08986043304e-05, 2: 2.20321847442e-05, 3: 2.45633395927e-05, 4: 3.71771110467e-05}\n",
            "Red band radiance is from 0 to 29134\n",
            "Red band reflectance is from 0.0 to 0.7156283356937219\n",
            "Before Scaling, red band reflectance is from 0.0 to 0.7156283356937219\n",
            "After Scaling, red band reflectance is from 0.0 to 7156.283356937219\n",
            "writing reflectance file to:  /content/drive/My Drive/PlanetScope/283030_3744207_2016-11-02_0e26/283030_3744207_2016-11-02_0e26_refl.tif\n",
            "                  new iteration\n",
            "Discovered this tif:  /content/drive/My Drive/PlanetScope/283030_3744208_2016-11-02_0e26/283030_3744208_2016-11-02_0e26_BGRN_Analytic.tif\n",
            "Discovered this tif:  /content/drive/My Drive/PlanetScope/283030_3744208_2016-11-02_0e26/283030_3744208_2016-11-02_0e26_BGRN_Analytic_metadata.xml\n",
            "Discovered this tif:  /content/drive/My Drive/PlanetScope/283030_3744208_2016-11-02_0e26/283030_3744208_2016-11-02_0e26_metadata.json\n",
            "Discovered this tif:  /content/drive/My Drive/PlanetScope/283030_3744208_2016-11-02_0e26/283030_3744208_2016-11-02_0e26_BGRN_DN_udm.tif\n",
            "using tif file:  /content/drive/My Drive/PlanetScope/283030_3744208_2016-11-02_0e26/283030_3744208_2016-11-02_0e26_BGRN_Analytic.tif\n",
            "using meta file:  /content/drive/My Drive/PlanetScope/283030_3744208_2016-11-02_0e26/283030_3744208_2016-11-02_0e26_BGRN_Analytic_metadata.xml\n",
            "calculating TOA and saving it into  /content/drive/My Drive/PlanetScope/283030_3744208_2016-11-02_0e26/283030_3744208_2016-11-02_0e26_refl.tif\n",
            "Conversion coefficients: {1: 2.08986043304e-05, 2: 2.20321847442e-05, 3: 2.45633395927e-05, 4: 3.71771110467e-05}\n",
            "Red band radiance is from 0 to 26915\n",
            "Red band reflectance is from 0.0 to 0.6611222851375206\n",
            "Before Scaling, red band reflectance is from 0.0 to 0.6611222851375206\n",
            "After Scaling, red band reflectance is from 0.0 to 6611.222851375206\n",
            "writing reflectance file to:  /content/drive/My Drive/PlanetScope/283030_3744208_2016-11-02_0e26/283030_3744208_2016-11-02_0e26_refl.tif\n",
            "                  new iteration\n",
            "Discovered this tif:  /content/drive/My Drive/PlanetScope/283030_3744307_2016-11-02_0e26/283030_3744307_2016-11-02_0e26_BGRN_Analytic.tif\n",
            "Discovered this tif:  /content/drive/My Drive/PlanetScope/283030_3744307_2016-11-02_0e26/283030_3744307_2016-11-02_0e26_BGRN_Analytic_metadata.xml\n",
            "Discovered this tif:  /content/drive/My Drive/PlanetScope/283030_3744307_2016-11-02_0e26/283030_3744307_2016-11-02_0e26_BGRN_DN_udm.tif\n",
            "Discovered this tif:  /content/drive/My Drive/PlanetScope/283030_3744307_2016-11-02_0e26/283030_3744307_2016-11-02_0e26_metadata.json\n",
            "using tif file:  /content/drive/My Drive/PlanetScope/283030_3744307_2016-11-02_0e26/283030_3744307_2016-11-02_0e26_BGRN_Analytic.tif\n",
            "using meta file:  /content/drive/My Drive/PlanetScope/283030_3744307_2016-11-02_0e26/283030_3744307_2016-11-02_0e26_BGRN_Analytic_metadata.xml\n",
            "calculating TOA and saving it into  /content/drive/My Drive/PlanetScope/283030_3744307_2016-11-02_0e26/283030_3744307_2016-11-02_0e26_refl.tif\n",
            "Conversion coefficients: {1: 2.09341850553e-05, 2: 2.2069695436e-05, 3: 2.46051596787e-05, 4: 3.72404065923e-05}\n",
            "Red band radiance is from 0 to 28043\n",
            "Red band reflectance is from 0.0 to 0.6900024928697841\n",
            "Before Scaling, red band reflectance is from 0.0 to 0.6900024928697841\n",
            "After Scaling, red band reflectance is from 0.0 to 6900.0249286978415\n",
            "writing reflectance file to:  /content/drive/My Drive/PlanetScope/283030_3744307_2016-11-02_0e26/283030_3744307_2016-11-02_0e26_refl.tif\n",
            "                  new iteration\n",
            "Discovered this tif:  /content/drive/My Drive/PlanetScope/283030_3744308_2016-11-02_0e26/283030_3744308_2016-11-02_0e26_BGRN_Analytic.tif\n",
            "Discovered this tif:  /content/drive/My Drive/PlanetScope/283030_3744308_2016-11-02_0e26/283030_3744308_2016-11-02_0e26_BGRN_Analytic_metadata.xml\n",
            "Discovered this tif:  /content/drive/My Drive/PlanetScope/283030_3744308_2016-11-02_0e26/283030_3744308_2016-11-02_0e26_BGRN_DN_udm.tif\n",
            "Discovered this tif:  /content/drive/My Drive/PlanetScope/283030_3744308_2016-11-02_0e26/283030_3744308_2016-11-02_0e26_metadata.json\n",
            "using tif file:  /content/drive/My Drive/PlanetScope/283030_3744308_2016-11-02_0e26/283030_3744308_2016-11-02_0e26_BGRN_Analytic.tif\n",
            "using meta file:  /content/drive/My Drive/PlanetScope/283030_3744308_2016-11-02_0e26/283030_3744308_2016-11-02_0e26_BGRN_Analytic_metadata.xml\n",
            "calculating TOA and saving it into  /content/drive/My Drive/PlanetScope/283030_3744308_2016-11-02_0e26/283030_3744308_2016-11-02_0e26_refl.tif\n",
            "Conversion coefficients: {1: 2.09341850553e-05, 2: 2.2069695436e-05, 3: 2.46051596787e-05, 4: 3.72404065923e-05}\n",
            "Red band radiance is from 0 to 23187\n",
            "Red band reflectance is from 0.0 to 0.5705198374700169\n",
            "Before Scaling, red band reflectance is from 0.0 to 0.5705198374700169\n",
            "After Scaling, red band reflectance is from 0.0 to 5705.198374700169\n",
            "writing reflectance file to:  /content/drive/My Drive/PlanetScope/283030_3744308_2016-11-02_0e26/283030_3744308_2016-11-02_0e26_refl.tif\n",
            "                  new iteration\n",
            "Discovered this tif:  /content/drive/My Drive/PlanetScope/283030_3744407_2016-11-02_0e26/283030_3744407_2016-11-02_0e26_BGRN_Analytic.tif\n",
            "Discovered this tif:  /content/drive/My Drive/PlanetScope/283030_3744407_2016-11-02_0e26/283030_3744407_2016-11-02_0e26_BGRN_Analytic_metadata.xml\n",
            "Discovered this tif:  /content/drive/My Drive/PlanetScope/283030_3744407_2016-11-02_0e26/283030_3744407_2016-11-02_0e26_BGRN_DN_udm.tif\n",
            "Discovered this tif:  /content/drive/My Drive/PlanetScope/283030_3744407_2016-11-02_0e26/283030_3744407_2016-11-02_0e26_metadata.json\n",
            "using tif file:  /content/drive/My Drive/PlanetScope/283030_3744407_2016-11-02_0e26/283030_3744407_2016-11-02_0e26_BGRN_Analytic.tif\n",
            "using meta file:  /content/drive/My Drive/PlanetScope/283030_3744407_2016-11-02_0e26/283030_3744407_2016-11-02_0e26_BGRN_Analytic_metadata.xml\n",
            "calculating TOA and saving it into  /content/drive/My Drive/PlanetScope/283030_3744407_2016-11-02_0e26/283030_3744407_2016-11-02_0e26_refl.tif\n",
            "Conversion coefficients: {1: 2.09701795816e-05, 2: 2.21076423744e-05, 3: 2.46474661293e-05, 4: 3.73044382606e-05}\n",
            "Red band radiance is from 0 to 32303\n",
            "Red band reflectance is from 0.0 to 0.796187098374778\n",
            "Before Scaling, red band reflectance is from 0.0 to 0.796187098374778\n",
            "After Scaling, red band reflectance is from 0.0 to 7961.87098374778\n",
            "writing reflectance file to:  /content/drive/My Drive/PlanetScope/283030_3744407_2016-11-02_0e26/283030_3744407_2016-11-02_0e26_refl.tif\n",
            "                  new iteration\n",
            "Discovered this tif:  /content/drive/My Drive/PlanetScope/283030_3744408_2016-11-02_0e26/283030_3744408_2016-11-02_0e26_BGRN_Analytic.tif\n",
            "Discovered this tif:  /content/drive/My Drive/PlanetScope/283030_3744408_2016-11-02_0e26/283030_3744408_2016-11-02_0e26_BGRN_Analytic_metadata.xml\n",
            "Discovered this tif:  /content/drive/My Drive/PlanetScope/283030_3744408_2016-11-02_0e26/283030_3744408_2016-11-02_0e26_metadata.json\n",
            "Discovered this tif:  /content/drive/My Drive/PlanetScope/283030_3744408_2016-11-02_0e26/283030_3744408_2016-11-02_0e26_BGRN_DN_udm.tif\n",
            "using tif file:  /content/drive/My Drive/PlanetScope/283030_3744408_2016-11-02_0e26/283030_3744408_2016-11-02_0e26_BGRN_Analytic.tif\n",
            "using meta file:  /content/drive/My Drive/PlanetScope/283030_3744408_2016-11-02_0e26/283030_3744408_2016-11-02_0e26_BGRN_Analytic_metadata.xml\n",
            "calculating TOA and saving it into  /content/drive/My Drive/PlanetScope/283030_3744408_2016-11-02_0e26/283030_3744408_2016-11-02_0e26_refl.tif\n",
            "Conversion coefficients: {1: 2.09701795816e-05, 2: 2.21076423744e-05, 3: 2.46474661293e-05, 4: 3.73044382606e-05}\n",
            "Red band radiance is from 0 to 32143\n",
            "Red band reflectance is from 0.0 to 0.7922435037940899\n",
            "Before Scaling, red band reflectance is from 0.0 to 0.7922435037940899\n",
            "After Scaling, red band reflectance is from 0.0 to 7922.435037940899\n",
            "writing reflectance file to:  /content/drive/My Drive/PlanetScope/283030_3744408_2016-11-02_0e26/283030_3744408_2016-11-02_0e26_refl.tif\n",
            "                  new iteration\n",
            "Discovered this tif:  /content/drive/My Drive/PlanetScope/283030_3744508_2016-11-02_0e26/283030_3744508_2016-11-02_0e26_BGRN_Analytic.tif\n",
            "Discovered this tif:  /content/drive/My Drive/PlanetScope/283030_3744508_2016-11-02_0e26/283030_3744508_2016-11-02_0e26_BGRN_Analytic_metadata.xml\n",
            "Discovered this tif:  /content/drive/My Drive/PlanetScope/283030_3744508_2016-11-02_0e26/283030_3744508_2016-11-02_0e26_metadata.json\n",
            "Discovered this tif:  /content/drive/My Drive/PlanetScope/283030_3744508_2016-11-02_0e26/283030_3744508_2016-11-02_0e26_BGRN_DN_udm.tif\n",
            "using tif file:  /content/drive/My Drive/PlanetScope/283030_3744508_2016-11-02_0e26/283030_3744508_2016-11-02_0e26_BGRN_Analytic.tif\n",
            "using meta file:  /content/drive/My Drive/PlanetScope/283030_3744508_2016-11-02_0e26/283030_3744508_2016-11-02_0e26_BGRN_Analytic_metadata.xml\n",
            "calculating TOA and saving it into  /content/drive/My Drive/PlanetScope/283030_3744508_2016-11-02_0e26/283030_3744508_2016-11-02_0e26_refl.tif\n"
          ],
          "name": "stdout"
        }
      ]
    },
    {
      "cell_type": "code",
      "metadata": {
        "colab_type": "code",
        "id": "o5AhYmRdqQ9t",
        "colab": {}
      },
      "source": [
        "#import matplotlib.pyplot as plt\n",
        "#import matplotlib.colors as colors\n",
        "#class MidpointNormalize(colors.Normalize):\n",
        "#    \"\"\"\n",
        "#    Normalise the colorbar so that diverging bars work there way either side from a prescribed midpoint value)\n",
        "#    e.g. im=ax1.imshow(array, norm=MidpointNormalize(midpoint=0.,vmin=-100, vmax=100))\n",
        "#    Credit: Joe Kington, http://chris35wills.github.io/matplotlib_diverging_colorbar/\n",
        "#    \"\"\"\n",
        "#    def __init__(self, vmin=None, vmax=None, midpoint=None, clip=False):\n",
        "#        self.midpoint = midpoint\n",
        "#        colors.Normalize.__init__(self, vmin, vmax, clip)\n",
        "#\n",
        "#    def __call__(self, value, clip=None):\n",
        "#        # I'm ignoring masked values and all kinds of edge cases to make a\n",
        "#        # simple example...\n",
        "#        x, y = [self.vmin, self.midpoint, self.vmax], [0, 0.5, 1]\n",
        "#        return np.ma.masked_array(np.interp(value, x, y), np.isnan(value))\n",
        "\n",
        "\n",
        "# Set min/max values from reflectance range for image (excluding NAN)\n",
        "#min=np.nanmin(band_nir_reflectance)\n",
        "#max=np.nanmax(band_nir_reflectance)\n",
        "#mid=0.20\n",
        "\n",
        "#fig = plt.figure(figsize=(20,10))\n",
        "#ax = fig.add_subplot(111)\n",
        "\n",
        "# diverging color scheme chosen from https://matplotlib.org/users/colormaps.html\n",
        "# note that appending '_r' to the color scheme name reverses it!\n",
        "#cmap = plt.cm.get_cmap('RdGy_r')\n",
        "\n",
        "#cax = ax.imshow(band_nir_reflectance, cmap=cmap, clim=(min, max), norm=MidpointNormalize(midpoint=mid,vmin=min, vmax=max))\n",
        "\n",
        "#ax.axis('off')\n",
        "#ax.set_title('NIR Reflectance', fontsize=18, fontweight='bold')\n",
        "\n",
        "#cbar = fig.colorbar(cax, orientation='horizontal', shrink=0.65)\n",
        "\n",
        "#fig.savefig(\"ref-fig.png\", dpi=200, bbox_inches='tight', pad_inches=0.7)\n",
        "\n",
        "#plt.show()"
      ],
      "execution_count": 0,
      "outputs": []
    }
  ]
}