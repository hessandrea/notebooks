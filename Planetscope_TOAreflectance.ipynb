{
  "nbformat": 4,
  "nbformat_minor": 0,
  "metadata": {
    "colab": {
      "name": "Loading_files_from_drive.ipynb",
      "provenance": [],
      "collapsed_sections": [],
      "authorship_tag": "ABX9TyPw2AcVhYLJFswDeHbhUBVA",
      "include_colab_link": true
    },
    "kernelspec": {
      "name": "python3",
      "display_name": "Python 3"
    }
  },
  "cells": [
    {
      "cell_type": "markdown",
      "metadata": {
        "id": "view-in-github",
        "colab_type": "text"
      },
      "source": [
        "<a href=\"https://colab.research.google.com/github/hessandrea/notebooks/blob/master/Planetscope_TOAreflectance.ipynb\" target=\"_parent\"><img src=\"https://colab.research.google.com/assets/colab-badge.svg\" alt=\"Open In Colab\"/></a>"
      ]
    },
    {
      "cell_type": "code",
      "metadata": {
        "id": "UbrqaH9xCOfe",
        "colab_type": "code",
        "colab": {}
      },
      "source": [
        "#!pip install rasterio\n",
        "import rasterio\n",
        "import numpy as np\n",
        "import os"
      ],
      "execution_count": 0,
      "outputs": []
    },
    {
      "cell_type": "code",
      "metadata": {
        "id": "oW6sY0cvzeCn",
        "colab_type": "code",
        "outputId": "1dc97afb-30cc-42cf-85e8-fa3a4fa02a35",
        "colab": {
          "base_uri": "https://localhost:8080/",
          "height": 35
        }
      },
      "source": [
        "# Load the Drive helper and mount\n",
        "from google.colab import drive\n",
        "\n",
        "# This will prompt for authorization.\n",
        "drive.mount('/content/drive')"
      ],
      "execution_count": 357,
      "outputs": [
        {
          "output_type": "stream",
          "text": [
            "Drive already mounted at /content/drive; to attempt to forcibly remount, call drive.mount(\"/content/drive\", force_remount=True).\n"
          ],
          "name": "stdout"
        }
      ]
    },
    {
      "cell_type": "code",
      "metadata": {
        "id": "PRqPnYyB2IGM",
        "colab_type": "code",
        "colab": {
          "base_uri": "https://localhost:8080/",
          "height": 35
        },
        "outputId": "d5954dea-740b-470f-f14c-dfb0d96cb90e"
      },
      "source": [
        "folders = os.listdir (\"/content/drive/My Drive/PlanetScope\")\n",
        "folders[0]\n",
        "\n",
        "\n"
      ],
      "execution_count": 360,
      "outputs": [
        {
          "output_type": "execute_result",
          "data": {
            "text/plain": [
              "'299857_3744205_2016-11-21_0e14'"
            ]
          },
          "metadata": {
            "tags": []
          },
          "execution_count": 360
        }
      ]
    },
    {
      "cell_type": "code",
      "metadata": {
        "id": "ne2iGNVT9_Sd",
        "colab_type": "code",
        "outputId": "160c1586-a551-468d-dd13-32ad95bffa92",
        "colab": {
          "base_uri": "https://localhost:8080/",
          "height": 35
        }
      },
      "source": [
        "if len(\"/content/drive/My Drive/PlanetScope\") > 1:\n",
        "    SearchDirectory = \"/content/drive/My Drive/PlanetScope\"\n",
        "    print(\"I'm looking for tifs in \", SearchDirectory)\n",
        "else:\n",
        "    print(\"Please tell me the directory to look in\")\n",
        "    sys.exit()\n",
        "\n",
        "\n",
        "\n"
      ],
      "execution_count": 361,
      "outputs": [
        {
          "output_type": "stream",
          "text": [
            "I'm looking for tifs in  /content/drive/My Drive/PlanetScope\n"
          ],
          "name": "stdout"
        }
      ]
    },
    {
      "cell_type": "code",
      "metadata": {
        "id": "0-_4fKA8AYNo",
        "colab_type": "code",
        "outputId": "a7c3a242-2184-4263-dfcc-e31d7a97efb0",
        "colab": {
          "base_uri": "https://localhost:8080/",
          "height": 88
        }
      },
      "source": [
        "### this works, don't mess with it\n",
        "SearchDirectory = \"/content/drive/My Drive/PlanetScope\"\n",
        "for root, dirs, files in os.walk(SearchDirectory):\n",
        "    image_files = []\n",
        "    for file in files:\n",
        "        if file.endswith((\"BGRN_Analytic.tif\")):\n",
        "            print(\"Discovered this tif:\", os.path.join(root, file))\n",
        "            image_files.append(os.path.join(root, file))\n",
        "        if file.endswith((\"metadata.xml\")):\n",
        "            print(\"Discovered this xml:\", os.path.join(root, file))\n",
        "            image_files.append(os.path.join(root, file))\n",
        "\n",
        "#print(image_files)\n",
        "#print(os.path.basename(root))"
      ],
      "execution_count": 364,
      "outputs": [
        {
          "output_type": "stream",
          "text": [
            "Discovered this xml: /content/drive/My Drive/PlanetScope/299857_3744205_2016-11-21_0e14/299857_3744205_2016-11-21_0e14_BGRN_Analytic_metadata.xml\n",
            "Discovered this tif: /content/drive/My Drive/PlanetScope/299857_3744205_2016-11-21_0e14/299857_3744205_2016-11-21_0e14_BGRN_Analytic.tif\n",
            "Discovered this xml: /content/drive/My Drive/PlanetScope/299857_3744307_2016-11-21_0e14/299857_3744307_2016-11-21_0e14_BGRN_Analytic_metadata.xml\n",
            "Discovered this tif: /content/drive/My Drive/PlanetScope/299857_3744307_2016-11-21_0e14/299857_3744307_2016-11-21_0e14_BGRN_Analytic.tif\n"
          ],
          "name": "stdout"
        }
      ]
    },
    {
      "cell_type": "code",
      "metadata": {
        "id": "7ZHZV7Y6fkza",
        "colab_type": "code",
        "colab": {
          "base_uri": "https://localhost:8080/",
          "height": 159
        },
        "outputId": "ff730729-663e-4178-c8ae-7f0ce207b014"
      },
      "source": [
        "import os\n",
        "rootdir = \"/content/drive/My Drive/PlanetScope\"\n",
        "\n",
        "\n",
        "for dir in os.listdir(rootdir):\n",
        "    #dirs[:] = [d for d in dirs if not d.endsswith('Scope')] # remove some subdirs\n",
        "\n",
        "    print(\"dir is: \", dir)\n",
        "    print(\"subdir is: \", subdir)\n",
        "\n",
        "    for file in files:\n",
        "        #print(os.path.join(subdir, file))\n",
        "        if file.endswith((\"BGRN_Analytic.tif\")):\n",
        "            #print(\"Discovered this tif:\", os.path.join(root, file))\n",
        "            tiffile = os.path.join(root, file)\n",
        "        if file.endswith((\"metadata.xml\")):\n",
        "            #print(\"Discovered this xml:\", os.path.join(root, file))\n",
        "            xmlfile = os.path.join(root, file)\n",
        "    print(\"tif file is: \", tiffile)\n",
        "    #print(xmlfile)\n",
        "    refl_file_string = (subdir + \"/\" + subdir[-30:] + \"_refl.tif\")\n",
        "    refl_file = os.path.join(subdir, refl_file_string)\n",
        "    print(\"output file name: \", refl_file_string)\n",
        "\n"
      ],
      "execution_count": 446,
      "outputs": [
        {
          "output_type": "stream",
          "text": [
            "dir is:  299857_3744205_2016-11-21_0e14\n",
            "subdir is:  /content/drive/My Drive/PlanetScope/299857_3744307_2016-11-21_0e14\n",
            "tif file is:  /content/drive/My Drive/PlanetScope/299857_3744307_2016-11-21_0e14/299857_3744307_2016-11-21_0e14_BGRN_Analytic.tif\n",
            "output file name:  /content/drive/My Drive/PlanetScope/299857_3744307_2016-11-21_0e14/299857_3744307_2016-11-21_0e14_refl.tif\n",
            "dir is:  299857_3744307_2016-11-21_0e14\n",
            "subdir is:  /content/drive/My Drive/PlanetScope/299857_3744307_2016-11-21_0e14\n",
            "tif file is:  /content/drive/My Drive/PlanetScope/299857_3744307_2016-11-21_0e14/299857_3744307_2016-11-21_0e14_BGRN_Analytic.tif\n",
            "output file name:  /content/drive/My Drive/PlanetScope/299857_3744307_2016-11-21_0e14/299857_3744307_2016-11-21_0e14_refl.tif\n"
          ],
          "name": "stdout"
        }
      ]
    },
    {
      "cell_type": "code",
      "metadata": {
        "id": "I4DbEBcTWyFp",
        "colab_type": "code",
        "outputId": "6dd2105c-1873-40a7-bbce-12785229c30e",
        "colab": {
          "base_uri": "https://localhost:8080/",
          "height": 301
        }
      },
      "source": [
        "import os\n",
        "rootdir = \"/content/drive/My Drive/PlanetScope\"\n",
        "\n",
        "\n",
        "for dir in os.listdir(rootdir):\n",
        "    for file in files:\n",
        "        #print(os.path.join(subdir, file))\n",
        "        if file.endswith((\"BGRN_Analytic.tif\")):\n",
        "            #print(\"Discovered this tif:\", os.path.join(root, file))\n",
        "            tiffile = os.path.join(root, file)\n",
        "        if file.endswith((\"metadata.xml\")):\n",
        "            #print(\"Discovered this xml:\", os.path.join(root, file))\n",
        "            xmlfile = os.path.join(root, file)\n",
        "    print(\"tif file is: \", tiffile)\n",
        "    print(\"xml file is: \", xmlfile)\n",
        "\n",
        "\n",
        "    # Load red and NIR bands - note all PlanetScope 4-band images have band order BGRN\n",
        "    with rasterio.open(filename) as src:\n",
        "        band_blue_radiance = src.read(1)\n",
        "        \n",
        "    with rasterio.open(filename) as src:\n",
        "        band_green_radiance = src.read(2)\n",
        "\n",
        "    with rasterio.open(filename) as src:\n",
        "        band_red_radiance = src.read(3)\n",
        "\n",
        "    with rasterio.open(filename) as src:\n",
        "        band_nir_radiance = src.read(4)\n",
        "\n",
        "    from xml.dom import minidom\n",
        "\n",
        "    xmldoc = minidom.parse(\"/content/drive/My Drive/PlanetScope/299857_3744307_2016-11-21_0e14/299857_3744307_2016-11-21_0e14_BGRN_Analytic_metadata.xml\")\n",
        "    nodes = xmldoc.getElementsByTagName(\"ps:bandSpecificMetadata\")\n",
        "\n",
        "    # XML parser refers to bands by numbers 1-4\n",
        "    coeffs = {}\n",
        "    for node in nodes:\n",
        "        bn = node.getElementsByTagName(\"ps:bandNumber\")[0].firstChild.data\n",
        "        if bn in ['1', '2', '3', '4']:\n",
        "            i = int(bn)\n",
        "            value = node.getElementsByTagName(\"ps:reflectanceCoefficient\")[0].firstChild.data\n",
        "            coeffs[i] = float(value)\n",
        "\n",
        "    print (\"Conversion coefficients:\", coeffs)\n",
        "\n",
        "    # Multiply the Digital Number (DN) values in each band by the TOA reflectance coefficients\n",
        "    band_blue_reflectance = band_blue_radiance * coeffs[1]\n",
        "    band_green_reflectance = band_green_radiance * coeffs[2]\n",
        "    band_red_reflectance = band_red_radiance * coeffs[3]\n",
        "    band_nir_reflectance = band_nir_radiance * coeffs[4]\n",
        "\n",
        "    import numpy as np\n",
        "    print (\"Red band radiance is from {} to {}\".format(np.amin(band_red_radiance), np.amax(band_red_radiance)))\n",
        "    print (\"Red band reflectance is from {} to {}\".format(np.amin(band_red_reflectance), np.amax(band_red_reflectance)))\n",
        "\n",
        "    kwargs = src.meta\n",
        "    kwargs.update(\n",
        "        dtype=rasterio.uint16,\n",
        "        count = 4)\n",
        "\n",
        "    print (\"Before Scaling, red band reflectance is from {} to {}\".format(np.amin(band_red_reflectance), np.amax(band_red_reflectance)))\n",
        "\n",
        "    # Here we include a fixed scaling factor. This is common practice.\n",
        "    scale = 10000\n",
        "    blue_ref_scaled = scale * band_blue_reflectance\n",
        "    green_ref_scaled = scale * band_green_reflectance\n",
        "    red_ref_scaled = scale * band_red_reflectance\n",
        "    nir_ref_scaled = scale * band_nir_reflectance\n",
        "\n",
        "    print (\"After Scaling, red band reflectance is from {} to {}\".format(np.amin(red_ref_scaled), np.amax(red_ref_scaled)))\n",
        "\n",
        "    # Write band calculations to a new raster file\n",
        "    refl_file_string = (subdir + \"/\" + subdir[-30:] + \"_refl.tif\")\n",
        "    refl_file = os.path.join(subdir, refl_file_string)\n",
        "    print(\"output file name: \", refl_file_string)\n",
        "\n",
        "    with rasterio.open(refl_file, 'w', **kwargs) as dst:\n",
        "            dst.write_band(1, band_blue_reflectance.astype(rasterio.uint16))\n",
        "            dst.write_band(2, band_green_reflectance.astype(rasterio.uint16))\n",
        "            dst.write_band(3, band_red_reflectance.astype(rasterio.uint16))\n",
        "            dst.write_band(4, band_nir_reflectance.astype(rasterio.uint16))\n",
        "\n",
        "    #print(dst)"
      ],
      "execution_count": 447,
      "outputs": [
        {
          "output_type": "stream",
          "text": [
            "tif file is:  /content/drive/My Drive/PlanetScope/299857_3744307_2016-11-21_0e14/299857_3744307_2016-11-21_0e14_BGRN_Analytic.tif\n",
            "xml file is:  /content/drive/My Drive/PlanetScope/299857_3744307_2016-11-21_0e14/299857_3744307_2016-11-21_0e14_BGRN_Analytic_metadata.xml\n",
            "Conversion coefficients: {1: 2.23980602726e-05, 2: 2.34432882909e-05, 3: 2.62812605331e-05, 4: 3.81966041896e-05}\n",
            "Red band radiance is from 0 to 19354\n",
            "Red band reflectance is from 0.0 to 0.5086475163576174\n",
            "Before Scaling, red band reflectance is from 0.0 to 0.5086475163576174\n",
            "After Scaling, red band reflectance is from 0.0 to 5086.475163576174\n",
            "output file name:  /content/drive/My Drive/PlanetScope/299857_3744307_2016-11-21_0e14/299857_3744307_2016-11-21_0e14_refl.tif\n",
            "tif file is:  /content/drive/My Drive/PlanetScope/299857_3744307_2016-11-21_0e14/299857_3744307_2016-11-21_0e14_BGRN_Analytic.tif\n",
            "xml file is:  /content/drive/My Drive/PlanetScope/299857_3744307_2016-11-21_0e14/299857_3744307_2016-11-21_0e14_BGRN_Analytic_metadata.xml\n",
            "Conversion coefficients: {1: 2.23980602726e-05, 2: 2.34432882909e-05, 3: 2.62812605331e-05, 4: 3.81966041896e-05}\n",
            "Red band radiance is from 0 to 19354\n",
            "Red band reflectance is from 0.0 to 0.5086475163576174\n",
            "Before Scaling, red band reflectance is from 0.0 to 0.5086475163576174\n",
            "After Scaling, red band reflectance is from 0.0 to 5086.475163576174\n",
            "output file name:  /content/drive/My Drive/PlanetScope/299857_3744307_2016-11-21_0e14/299857_3744307_2016-11-21_0e14_refl.tif\n"
          ],
          "name": "stdout"
        }
      ]
    },
    {
      "cell_type": "code",
      "metadata": {
        "id": "hSEwBXz-C1ZJ",
        "colab_type": "code",
        "outputId": "09dfe056-f031-4c91-d727-382c34d2ac36",
        "colab": {
          "base_uri": "https://localhost:8080/",
          "height": 35
        }
      },
      "source": [
        "filename = \"/content/drive/My Drive/PlanetScope/299857_3744307_2016-11-21_0e14/299857_3744307_2016-11-21_0e14_BGRN_Analytic.tif\"\n",
        "print(filename)\n",
        "\n",
        "# Load red and NIR bands - note all PlanetScope 4-band images have band order BGRN\n",
        "with rasterio.open(filename) as src:\n",
        "    band_blue_radiance = src.read(1)\n",
        "    \n",
        "with rasterio.open(filename) as src:\n",
        "    band_green_radiance = src.read(2)\n",
        "\n",
        "with rasterio.open(filename) as src:\n",
        "    band_red_radiance = src.read(3)\n",
        "\n",
        "with rasterio.open(filename) as src:\n",
        "    band_nir_radiance = src.read(4)\n"
      ],
      "execution_count": 367,
      "outputs": [
        {
          "output_type": "stream",
          "text": [
            "/content/drive/My Drive/PlanetScope/299857_3744307_2016-11-21_0e14/299857_3744307_2016-11-21_0e14_BGRN_Analytic.tif\n"
          ],
          "name": "stdout"
        }
      ]
    },
    {
      "cell_type": "code",
      "metadata": {
        "id": "5wZbcINOFQKc",
        "colab_type": "code",
        "outputId": "8b574186-2954-4b64-952d-b0f67b4ca5ea",
        "colab": {
          "base_uri": "https://localhost:8080/",
          "height": 35
        }
      },
      "source": [
        "from xml.dom import minidom\n",
        "\n",
        "xmldoc = minidom.parse(\"/content/drive/My Drive/PlanetScope/299857_3744307_2016-11-21_0e14/299857_3744307_2016-11-21_0e14_BGRN_Analytic_metadata.xml\")\n",
        "nodes = xmldoc.getElementsByTagName(\"ps:bandSpecificMetadata\")\n",
        "\n",
        "# XML parser refers to bands by numbers 1-4\n",
        "coeffs = {}\n",
        "for node in nodes:\n",
        "    bn = node.getElementsByTagName(\"ps:bandNumber\")[0].firstChild.data\n",
        "    if bn in ['1', '2', '3', '4']:\n",
        "        i = int(bn)\n",
        "        value = node.getElementsByTagName(\"ps:reflectanceCoefficient\")[0].firstChild.data\n",
        "        coeffs[i] = float(value)\n",
        "\n",
        "print (\"Conversion coefficients:\", coeffs)"
      ],
      "execution_count": 0,
      "outputs": [
        {
          "output_type": "stream",
          "text": [
            "Conversion coefficients: {1: 2.23980602726e-05, 2: 2.34432882909e-05, 3: 2.62812605331e-05, 4: 3.81966041896e-05}\n"
          ],
          "name": "stdout"
        }
      ]
    },
    {
      "cell_type": "code",
      "metadata": {
        "id": "5SDLDfTAGA2e",
        "colab_type": "code",
        "outputId": "c3c4ba30-b4b1-4f20-9e96-9e185f848e17",
        "colab": {
          "base_uri": "https://localhost:8080/",
          "height": 52
        }
      },
      "source": [
        "# Multiply the Digital Number (DN) values in each band by the TOA reflectance coefficients\n",
        "band_blue_reflectance = band_blue_radiance * coeffs[1]\n",
        "band_green_reflectance = band_green_radiance * coeffs[2]\n",
        "band_red_reflectance = band_red_radiance * coeffs[3]\n",
        "band_nir_reflectance = band_nir_radiance * coeffs[4]\n",
        "\n",
        "import numpy as np\n",
        "print (\"Red band radiance is from {} to {}\".format(np.amin(band_red_radiance), np.amax(band_red_radiance)))\n",
        "print (\"Red band reflectance is from {} to {}\".format(np.amin(band_red_reflectance), np.amax(band_red_reflectance)))"
      ],
      "execution_count": 0,
      "outputs": [
        {
          "output_type": "stream",
          "text": [
            "Red band radiance is from 0 to 19354\n",
            "Red band reflectance is from 0.0 to 0.5086475163576174\n"
          ],
          "name": "stdout"
        }
      ]
    },
    {
      "cell_type": "code",
      "metadata": {
        "id": "-uz3Wi3jGJjX",
        "colab_type": "code",
        "outputId": "72b49965-9b1c-45f8-c9e9-e50c4d5710fa",
        "colab": {
          "base_uri": "https://localhost:8080/",
          "height": 70
        }
      },
      "source": [
        "kwargs = src.meta\n",
        "kwargs.update(\n",
        "    dtype=rasterio.uint16,\n",
        "    count = 4)\n",
        "\n",
        "print (\"Before Scaling, red band reflectance is from {} to {}\".format(np.amin(band_red_reflectance), np.amax(band_red_reflectance)))\n",
        "\n",
        "# Here we include a fixed scaling factor. This is common practice.\n",
        "scale = 10000\n",
        "blue_ref_scaled = scale * band_blue_reflectance\n",
        "green_ref_scaled = scale * band_green_reflectance\n",
        "red_ref_scaled = scale * band_red_reflectance\n",
        "nir_ref_scaled = scale * band_nir_reflectance\n",
        "\n",
        "print (\"After Scaling, red band reflectance is from {} to {}\".format(np.amin(red_ref_scaled), np.amax(red_ref_scaled)))\n",
        "\n",
        "# Write band calculations to a new raster file\n",
        "with rasterio.open('/content/drive/My Drive/PlanetScope/299857_3744307_2016-11-21_0e14/reflectance.tif', 'w', **kwargs) as dst:\n",
        "        dst.write_band(1, band_blue_reflectance.astype(rasterio.uint16))\n",
        "        dst.write_band(2, band_green_reflectance.astype(rasterio.uint16))\n",
        "        dst.write_band(3, band_red_reflectance.astype(rasterio.uint16))\n",
        "        dst.write_band(4, band_nir_reflectance.astype(rasterio.uint16))\n",
        "\n",
        "print(dst)"
      ],
      "execution_count": 0,
      "outputs": [
        {
          "output_type": "stream",
          "text": [
            "Before Scaling, red band reflectance is from 0.0 to 0.5086475163576174\n",
            "After Scaling, red band reflectance is from 0.0 to 5086.475163576174\n",
            "<closed DatasetWriter name='/content/drive/My Drive/PlanetScope/299857_3744307_2016-11-21_0e14/reflectance.tif' mode='w'>\n"
          ],
          "name": "stdout"
        }
      ]
    },
    {
      "cell_type": "code",
      "metadata": {
        "id": "CAwpTrfKGany",
        "colab_type": "code",
        "outputId": "6c97221c-9d2b-44cb-92e4-3d7ee910cecf",
        "colab": {
          "base_uri": "https://localhost:8080/",
          "height": 566
        }
      },
      "source": [
        "import matplotlib.pyplot as plt\n",
        "import matplotlib.colors as colors\n",
        "class MidpointNormalize(colors.Normalize):\n",
        "    \"\"\"\n",
        "    Normalise the colorbar so that diverging bars work there way either side from a prescribed midpoint value)\n",
        "    e.g. im=ax1.imshow(array, norm=MidpointNormalize(midpoint=0.,vmin=-100, vmax=100))\n",
        "    Credit: Joe Kington, http://chris35wills.github.io/matplotlib_diverging_colorbar/\n",
        "    \"\"\"\n",
        "    def __init__(self, vmin=None, vmax=None, midpoint=None, clip=False):\n",
        "        self.midpoint = midpoint\n",
        "        colors.Normalize.__init__(self, vmin, vmax, clip)\n",
        "\n",
        "    def __call__(self, value, clip=None):\n",
        "        # I'm ignoring masked values and all kinds of edge cases to make a\n",
        "        # simple example...\n",
        "        x, y = [self.vmin, self.midpoint, self.vmax], [0, 0.5, 1]\n",
        "        return np.ma.masked_array(np.interp(value, x, y), np.isnan(value))\n",
        "\n",
        "\n",
        "# Set min/max values from reflectance range for image (excluding NAN)\n",
        "min=np.nanmin(band_nir_reflectance)\n",
        "max=np.nanmax(band_nir_reflectance)\n",
        "mid=0.20\n",
        "\n",
        "fig = plt.figure(figsize=(20,10))\n",
        "ax = fig.add_subplot(111)\n",
        "\n",
        "# diverging color scheme chosen from https://matplotlib.org/users/colormaps.html\n",
        "# note that appending '_r' to the color scheme name reverses it!\n",
        "cmap = plt.cm.get_cmap('RdGy_r')\n",
        "\n",
        "cax = ax.imshow(band_nir_reflectance, cmap=cmap, clim=(min, max), norm=MidpointNormalize(midpoint=mid,vmin=min, vmax=max))\n",
        "\n",
        "ax.axis('off')\n",
        "ax.set_title('NIR Reflectance', fontsize=18, fontweight='bold')\n",
        "\n",
        "cbar = fig.colorbar(cax, orientation='horizontal', shrink=0.65)\n",
        "\n",
        "fig.savefig(\"ref-fig.png\", dpi=200, bbox_inches='tight', pad_inches=0.7)\n",
        "\n",
        "plt.show()"
      ],
      "execution_count": 0,
      "outputs": [
        {
          "output_type": "display_data",
          "data": {
            "image/png": "[encoded data removed]",
            "text/plain": [
              "<Figure size 1440x720 with 2 Axes>"
            ]
          },
          "metadata": {
            "tags": []
          }
        }
      ]
    },
    {
      "cell_type": "code",
      "metadata": {
        "id": "RULibdnxB3p8",
        "colab_type": "code",
        "outputId": "4e2d5788-00bc-49bd-9ef6-42fe1c923bc9",
        "colab": {
          "base_uri": "https://localhost:8080/",
          "height": 423
        }
      },
      "source": [
        "import rasterio\n",
        "import numpy as np\n",
        "\n",
        "for root, dirs, files in os.walk(SearchDirectory):\n",
        "    for dirs in dirs:\n",
        "        print(dirs)\n",
        "        for files in files:\n",
        "            #defining what files within each folder i'm looking at\n",
        "            if file.endswith((\"BGRN_Analytic.tif\")):\n",
        "                #print(\"Discovered this tif:\", os.path.join(root, file))\n",
        "                #print(file)\n",
        "                tiffile = os.path.join(root, file)\n",
        "    \n",
        "            if file.endswith((\"metadata.xml\")):\n",
        "                #print(\"Discovered this tif:\", os.path.join(root, file))\n",
        "                xmlfile = os.path.join(root, file)\n",
        "                \n",
        "\n",
        "        # using the files previously selected\n",
        "        print(\"tif file is: \", tiffile)\n",
        "        # Load red and NIR bands - note all PlanetScope 4-band images have band order BGRN\n",
        "        with rasterio.open(tiffile) as src:\n",
        "            band_blue_radiance = src.read(1)\n",
        "            \n",
        "        with rasterio.open(tiffile) as src:\n",
        "            band_green_radiance = src.read(2)\n",
        "\n",
        "        with rasterio.open(tiffile) as src:\n",
        "            band_red_radiance = src.read(3)\n",
        "\n",
        "        with rasterio.open(tiffile) as src:\n",
        "            band_nir_radiance = src.read(4)\n",
        "            \n",
        "        print(\"xml file is: \", xmlfile)\n",
        "        xmldoc = minidom.parse(xmlfile)\n",
        "        nodes = xmldoc.getElementsByTagName(\"ps:bandSpecificMetadata\")\n",
        "\n",
        "        # XML parser refers to bands by numbers 1-4\n",
        "        coeffs = {}\n",
        "        for node in nodes:\n",
        "            bn = node.getElementsByTagName(\"ps:bandNumber\")[0].firstChild.data\n",
        "            if bn in ['1', '2', '3', '4']:\n",
        "                i = int(bn)\n",
        "                value = node.getElementsByTagName(\"ps:reflectanceCoefficient\")[0].firstChild.data\n",
        "                coeffs[i] = float(value)\n",
        "\n",
        "        #print (\"Conversion coefficients:\", coeffs)\n",
        "\n",
        "        # Multiply the Digital Number (DN) values in each band by the TOA reflectance coefficients\n",
        "        band_blue_reflectance = band_blue_radiance * coeffs[1]\n",
        "        band_green_reflectance = band_green_radiance * coeffs[2]\n",
        "        band_red_reflectance = band_red_radiance * coeffs[3]\n",
        "        band_nir_reflectance = band_nir_radiance * coeffs[4]\n",
        "\n",
        "        import numpy as np\n",
        "        #print (\"Red band radiance is from {} to {}\".format(np.amin(band_red_radiance), np.amax(band_red_radiance)))\n",
        "        #print (\"Red band reflectance is from {} to {}\".format(np.amin(band_red_reflectance), np.amax(band_red_reflectance)))\n",
        "\n",
        "\n",
        "        kwargs = src.meta\n",
        "        kwargs.update(\n",
        "            dtype=rasterio.uint16,\n",
        "            count = 4)\n",
        "\n",
        "        #print (\"Before Scaling, red band reflectance is from {} to {}\".format(np.amin(band_red_reflectance), np.amax(band_red_reflectance)))\n",
        "\n",
        "        ## Here we include a fixed scaling factor. This is common practice.\n",
        "        scale = 10000\n",
        "        blue_ref_scaled = scale * band_blue_reflectance\n",
        "        green_ref_scaled = scale * band_green_reflectance\n",
        "        red_ref_scaled = scale * band_red_reflectance\n",
        "        nir_ref_scaled = scale * band_nir_reflectance\n",
        "\n",
        "        print (\"After Scaling, red band reflectance is from {} to {}\".format(np.amin(red_ref_scaled), np.amax(red_ref_scaled)))\n",
        "\n",
        "        ## Write band calculations to a new raster file\n",
        "        refl_file = os.path.join(root, dirs,  \"reflectance.tif\")\n",
        "        print(refl_file)\n",
        "        with rasterio.open('refl_file', 'w', **kwargs) as dst:\n",
        "                dst.write_band(1, band_blue_reflectance.astype(rasterio.uint16))\n",
        "                dst.write_band(2, band_green_reflectance.astype(rasterio.uint16))\n",
        "                dst.write_band(3, band_red_reflectance.astype(rasterio.uint16))\n",
        "                dst.write_band(4, band_nir_reflectance.astype(rasterio.uint16))\n",
        "            "
      ],
      "execution_count": 0,
      "outputs": [
        {
          "output_type": "stream",
          "text": [
            "299857_3744205_2016-11-21_0e14\n",
            "tif file is:  ['299857_3744307_2016-11-21_0e14_BGRN_Analytic.tif']\n"
          ],
          "name": "stdout"
        },
        {
          "output_type": "error",
          "ename": "TypeError",
          "evalue": "ignored",
          "traceback": [
            "\u001b[0;31m---------------------------------------------------------------------------\u001b[0m",
            "\u001b[0;31mTypeError\u001b[0m                                 Traceback (most recent call last)",
            "\u001b[0;32m<ipython-input-294-c0d0ba16e0e5>\u001b[0m in \u001b[0;36m<module>\u001b[0;34m()\u001b[0m\n\u001b[1;32m     20\u001b[0m         \u001b[0mprint\u001b[0m\u001b[0;34m(\u001b[0m\u001b[0;34m\"tif file is: \"\u001b[0m\u001b[0;34m,\u001b[0m \u001b[0mtiffile\u001b[0m\u001b[0;34m)\u001b[0m\u001b[0;34m\u001b[0m\u001b[0;34m\u001b[0m\u001b[0m\n\u001b[1;32m     21\u001b[0m         \u001b[0;31m# Load red and NIR bands - note all PlanetScope 4-band images have band order BGRN\u001b[0m\u001b[0;34m\u001b[0m\u001b[0;34m\u001b[0m\u001b[0;34m\u001b[0m\u001b[0m\n\u001b[0;32m---> 22\u001b[0;31m         \u001b[0;32mwith\u001b[0m \u001b[0mrasterio\u001b[0m\u001b[0;34m.\u001b[0m\u001b[0mopen\u001b[0m\u001b[0;34m(\u001b[0m\u001b[0mtiffile\u001b[0m\u001b[0;34m)\u001b[0m \u001b[0;32mas\u001b[0m \u001b[0msrc\u001b[0m\u001b[0;34m:\u001b[0m\u001b[0;34m\u001b[0m\u001b[0;34m\u001b[0m\u001b[0m\n\u001b[0m\u001b[1;32m     23\u001b[0m             \u001b[0mband_blue_radiance\u001b[0m \u001b[0;34m=\u001b[0m \u001b[0msrc\u001b[0m\u001b[0;34m.\u001b[0m\u001b[0mread\u001b[0m\u001b[0;34m(\u001b[0m\u001b[0;36m1\u001b[0m\u001b[0;34m)\u001b[0m\u001b[0;34m\u001b[0m\u001b[0;34m\u001b[0m\u001b[0m\n\u001b[1;32m     24\u001b[0m \u001b[0;34m\u001b[0m\u001b[0m\n",
            "\u001b[0;32m/usr/local/lib/python3.6/dist-packages/rasterio/env.py\u001b[0m in \u001b[0;36mwrapper\u001b[0;34m(*args, **kwds)\u001b[0m\n\u001b[1;32m    443\u001b[0m \u001b[0;34m\u001b[0m\u001b[0m\n\u001b[1;32m    444\u001b[0m         \u001b[0;32mwith\u001b[0m \u001b[0menv_ctor\u001b[0m\u001b[0;34m(\u001b[0m\u001b[0msession\u001b[0m\u001b[0;34m=\u001b[0m\u001b[0msession\u001b[0m\u001b[0;34m)\u001b[0m\u001b[0;34m:\u001b[0m\u001b[0;34m\u001b[0m\u001b[0;34m\u001b[0m\u001b[0m\n\u001b[0;32m--> 445\u001b[0;31m             \u001b[0;32mreturn\u001b[0m \u001b[0mf\u001b[0m\u001b[0;34m(\u001b[0m\u001b[0;34m*\u001b[0m\u001b[0margs\u001b[0m\u001b[0;34m,\u001b[0m \u001b[0;34m**\u001b[0m\u001b[0mkwds\u001b[0m\u001b[0;34m)\u001b[0m\u001b[0;34m\u001b[0m\u001b[0;34m\u001b[0m\u001b[0m\n\u001b[0m\u001b[1;32m    446\u001b[0m \u001b[0;34m\u001b[0m\u001b[0m\n\u001b[1;32m    447\u001b[0m     \u001b[0;32mreturn\u001b[0m \u001b[0mwrapper\u001b[0m\u001b[0;34m\u001b[0m\u001b[0;34m\u001b[0m\u001b[0m\n",
            "\u001b[0;32m/usr/local/lib/python3.6/dist-packages/rasterio/__init__.py\u001b[0m in \u001b[0;36mopen\u001b[0;34m(fp, mode, driver, width, height, count, crs, transform, dtype, nodata, sharing, **kwargs)\u001b[0m\n\u001b[1;32m    154\u001b[0m     \u001b[0;32mif\u001b[0m \u001b[0;32mnot\u001b[0m \u001b[0misinstance\u001b[0m\u001b[0;34m(\u001b[0m\u001b[0mfp\u001b[0m\u001b[0;34m,\u001b[0m \u001b[0mstring_types\u001b[0m\u001b[0;34m)\u001b[0m\u001b[0;34m:\u001b[0m\u001b[0;34m\u001b[0m\u001b[0;34m\u001b[0m\u001b[0m\n\u001b[1;32m    155\u001b[0m         \u001b[0;32mif\u001b[0m \u001b[0;32mnot\u001b[0m \u001b[0;34m(\u001b[0m\u001b[0mhasattr\u001b[0m\u001b[0;34m(\u001b[0m\u001b[0mfp\u001b[0m\u001b[0;34m,\u001b[0m \u001b[0;34m'read'\u001b[0m\u001b[0;34m)\u001b[0m \u001b[0;32mor\u001b[0m \u001b[0mhasattr\u001b[0m\u001b[0;34m(\u001b[0m\u001b[0mfp\u001b[0m\u001b[0;34m,\u001b[0m \u001b[0;34m'write'\u001b[0m\u001b[0;34m)\u001b[0m \u001b[0;32mor\u001b[0m \u001b[0misinstance\u001b[0m\u001b[0;34m(\u001b[0m\u001b[0mfp\u001b[0m\u001b[0;34m,\u001b[0m \u001b[0mPath\u001b[0m\u001b[0;34m)\u001b[0m\u001b[0;34m)\u001b[0m\u001b[0;34m:\u001b[0m\u001b[0;34m\u001b[0m\u001b[0;34m\u001b[0m\u001b[0m\n\u001b[0;32m--> 156\u001b[0;31m             \u001b[0;32mraise\u001b[0m \u001b[0mTypeError\u001b[0m\u001b[0;34m(\u001b[0m\u001b[0;34m\"invalid path or file: {0!r}\"\u001b[0m\u001b[0;34m.\u001b[0m\u001b[0mformat\u001b[0m\u001b[0;34m(\u001b[0m\u001b[0mfp\u001b[0m\u001b[0;34m)\u001b[0m\u001b[0;34m)\u001b[0m\u001b[0;34m\u001b[0m\u001b[0;34m\u001b[0m\u001b[0m\n\u001b[0m\u001b[1;32m    157\u001b[0m     \u001b[0;32mif\u001b[0m \u001b[0mmode\u001b[0m \u001b[0;32mand\u001b[0m \u001b[0;32mnot\u001b[0m \u001b[0misinstance\u001b[0m\u001b[0;34m(\u001b[0m\u001b[0mmode\u001b[0m\u001b[0;34m,\u001b[0m \u001b[0mstring_types\u001b[0m\u001b[0;34m)\u001b[0m\u001b[0;34m:\u001b[0m\u001b[0;34m\u001b[0m\u001b[0;34m\u001b[0m\u001b[0m\n\u001b[1;32m    158\u001b[0m         \u001b[0;32mraise\u001b[0m \u001b[0mTypeError\u001b[0m\u001b[0;34m(\u001b[0m\u001b[0;34m\"invalid mode: {0!r}\"\u001b[0m\u001b[0;34m.\u001b[0m\u001b[0mformat\u001b[0m\u001b[0;34m(\u001b[0m\u001b[0mmode\u001b[0m\u001b[0;34m)\u001b[0m\u001b[0;34m)\u001b[0m\u001b[0;34m\u001b[0m\u001b[0;34m\u001b[0m\u001b[0m\n",
            "\u001b[0;31mTypeError\u001b[0m: invalid path or file: ['299857_3744307_2016-11-21_0e14_BGRN_Analytic.tif']"
          ]
        }
      ]
    }
  ]
}